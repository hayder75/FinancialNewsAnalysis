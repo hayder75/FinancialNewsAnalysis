{
 "cells": [
  {
   "cell_type": "code",
   "execution_count": 89,
   "metadata": {},
   "outputs": [],
   "source": [
    "import sys\n",
    "import os\n",
    "\n",
    "sys.path.append(os.path.abspath('../src'))\n",
    "\n",
    "import pandas as pd\n",
    "import matplotlib.pyplot as plt"
   ]
  },
  {
   "cell_type": "code",
   "execution_count": null,
   "metadata": {},
   "outputs": [
    {
     "ename": "ImportError",
     "evalue": "cannot import name 'calculate_daily_returns' from 'task_2_analysis' (/home/hay/FinancialNewsAnalysis/src/task_2_analysis.py)",
     "output_type": "error",
     "traceback": [
      "\u001b[0;31m---------------------------------------------------------------------------\u001b[0m",
      "\u001b[0;31mImportError\u001b[0m                               Traceback (most recent call last)",
      "Cell \u001b[0;32mIn[90], line 2\u001b[0m\n\u001b[1;32m      1\u001b[0m \u001b[38;5;28;01mfrom\u001b[39;00m \u001b[38;5;21;01mtask_1_analysis\u001b[39;00m \u001b[38;5;28;01mimport\u001b[39;00m load_news_data, perform_sentiment_analysis  \u001b[38;5;66;03m# Ensure these functions are defined in your task_1_analysis.py\u001b[39;00m\n\u001b[0;32m----> 2\u001b[0m \u001b[38;5;28;01mfrom\u001b[39;00m \u001b[38;5;21;01mtask_2_analysis\u001b[39;00m \u001b[38;5;28;01mimport\u001b[39;00m load_stock_data, calculate_daily_returns  \u001b[38;5;66;03m# Ensure these functions are defined in your task_2_analysis.py\u001b[39;00m\n\u001b[1;32m      3\u001b[0m \u001b[38;5;28;01mfrom\u001b[39;00m \u001b[38;5;21;01mcorrelation_analysis\u001b[39;00m \u001b[38;5;28;01mimport\u001b[39;00m normalize_dates, aggregate_sentiments, correlation_analysis  \u001b[38;5;66;03m# Ensure these functions are defined in your correlation_analysis.py\u001b[39;00m\n\u001b[1;32m      5\u001b[0m \u001b[38;5;66;03m# Load datasets from Tasks 1 and 2\u001b[39;00m\n",
      "\u001b[0;31mImportError\u001b[0m: cannot import name 'calculate_daily_returns' from 'task_2_analysis' (/home/hay/FinancialNewsAnalysis/src/task_2_analysis.py)"
     ]
    }
   ],
   "source": [
    "\n",
    "from task_1_analysis import load_news_data, perform_sentiment_analysis  # Ensure these functions are defined in your task_1_analysis.py\n",
    "from task_2_analysis import load_stock_data, calculate_daily_returns  # Ensure these functions are defined in your task_2_analysis.py\n",
    "from correlation_analysis import normalize_dates, aggregate_sentiments, correlation_analysis  # Ensure these functions are defined in your correlation_analysis.py\n",
    "\n",
    "# Load datasets from Tasks 1 and 2\n",
    "news_file_path = '../Data/raw_analyst_ratings.csv'  # Adjust path as necessary\n",
    "stock_file_path = '../Data/yfinance_data/AAPL_historical_data.csv'  # Adjust path as necessary\n",
    "\n",
    "# Load data\n",
    "news_df = load_news_data(news_file_path)\n",
    "stock_df = load_stock_data(stock_file_path)\n",
    "\n",
    "# Perform sentiment analysis on news headlines\n",
    "news_df['sentiment'] = perform_sentiment_analysis(news_df['headline'])\n",
    "\n",
    "# Check if sentiment column was created successfully\n",
    "print(news_df[['headline', 'sentiment']].head())  # Print first few rows to verify\n",
    "\n",
    "# Normalize dates for alignment between datasets\n",
    "normalize_dates(news_df, stock_df)\n",
    "\n",
    "# Calculate daily returns for the stock data\n",
    "calculate_daily_returns(stock_df)\n",
    "\n",
    "# Aggregate sentiments by date\n",
    "aggregated_sentiments = aggregate_sentiments(news_df)\n",
    "\n",
    "# Perform correlation analysis between aggregated sentiments and daily returns\n",
    "correlation_result = correlation_analysis(aggregated_sentiments, stock_df)\n",
    "print(f'Correlation between average daily sentiment and daily returns: {correlation_result}')\n",
    "\n",
    "# Visualization of Sentiment vs Daily Returns\n",
    "plt.figure(figsize=(14, 7))\n",
    "plt.plot(aggregated_sentiments['date'], aggregated_sentiments['sentiment'], label='Average Sentiment', color='blue')\n",
    "plt.plot(stock_df.index, stock_df['Daily_Returns'], label='Daily Returns', color='orange')\n",
    "plt.title('Average News Sentiment vs Daily Stock Returns')\n",
    "plt.xlabel('Date')\n",
    "plt.ylabel('Value')\n",
    "plt.legend()\n",
    "plt.grid()\n",
    "plt.show()\n"
   ]
  }
 ],
 "metadata": {
  "kernelspec": {
   "display_name": "myenv",
   "language": "python",
   "name": "python3"
  },
  "language_info": {
   "codemirror_mode": {
    "name": "ipython",
    "version": 3
   },
   "file_extension": ".py",
   "mimetype": "text/x-python",
   "name": "python",
   "nbconvert_exporter": "python",
   "pygments_lexer": "ipython3",
   "version": "3.12.3"
  }
 },
 "nbformat": 4,
 "nbformat_minor": 2
}
