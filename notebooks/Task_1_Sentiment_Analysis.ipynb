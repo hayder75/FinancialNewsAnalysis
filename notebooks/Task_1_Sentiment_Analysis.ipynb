{
 "cells": [
  {
   "cell_type": "code",
   "execution_count": null,
   "metadata": {},
   "outputs": [],
   "source": [
    "import sys\n",
    "import os\n",
    "\n",
    "sys.path.append(os.path.abspath('../src'))\n"
   ]
  },
  {
   "cell_type": "code",
   "execution_count": 6,
   "metadata": {},
   "outputs": [
    {
     "name": "stdout",
     "output_type": "stream",
     "text": [
      "/home/hay/FinancialNewsAnalysis/notebooks\n"
     ]
    }
   ],
   "source": [
    "\n",
    "import pandas as pd\n",
    "from task_1_analysis import load_news_data, perform_sentiment_analysis, analyze_publishers, analyze_publication_dates\n",
    "\n"
   ]
  },
  {
   "cell_type": "code",
   "execution_count": null,
   "metadata": {},
   "outputs": [],
   "source": [
    "\n",
    "news_file_path = '../Data/raw_analyst_ratings.csv'\n",
    "news_data = load_news_data(news_file_path)\n"
   ]
  },
  {
   "cell_type": "code",
   "execution_count": null,
   "metadata": {},
   "outputs": [],
   "source": [
    "\n",
    "news_data['sentiment'] = perform_sentiment_analysis(news_data['headline'])\n"
   ]
  },
  {
   "cell_type": "code",
   "execution_count": null,
   "metadata": {},
   "outputs": [],
   "source": [
    "\n",
    "publisher_counts = analyze_publishers(news_data)\n",
    "publication_trends = analyze_publication_dates(news_data)\n",
    "\n",
    "print(publisher_counts)\n",
    "print(publication_trends)"
   ]
  }
 ],
 "metadata": {
  "kernelspec": {
   "display_name": "myenv",
   "language": "python",
   "name": "python3"
  },
  "language_info": {
   "codemirror_mode": {
    "name": "ipython",
    "version": 3
   },
   "file_extension": ".py",
   "mimetype": "text/x-python",
   "name": "python",
   "nbconvert_exporter": "python",
   "pygments_lexer": "ipython3",
   "version": "3.12.3"
  }
 },
 "nbformat": 4,
 "nbformat_minor": 2
}
