{
 "cells": [
  {
   "cell_type": "code",
   "execution_count": null,
   "metadata": {},
   "outputs": [],
   "source": [
    "import pandas as pd\n",
    "import matplotlib.pyplot as plt\n",
    "\n",
    "# Load the dataset\n",
    "data = pd.read_csv('../src/raw_analyst_ratings.csv')\n",
    "\n",
    "# Convert 'date' to datetime\n",
    "data['date'] = pd.to_datetime(data['date'], errors='coerce') \n",
    "data.set_index('date', inplace=True)\n",
    "\n",
    "# Plotting publication trends over time\n",
    "plt.figure(figsize=(12, 6))\n",
    "data.resample('D').size().plot(title='Articles Published Over Time')\n",
    "plt.xlabel('Date')\n",
    "plt.ylabel('Number of Articles')\n",
    "plt.show()\n",
    "\n",
    "# Count articles published per day\n",
    "daily_counts = data.resample('D').size()\n",
    "\n",
    "plt.figure(figsize=(12, 6))\n",
    "daily_counts.plot(title='Daily Publication Counts')\n",
    "plt.xlabel('Date')\n",
    "plt.ylabel('Number of Articles')\n",
    "plt.show()\n",
    "\n",
    "# Publisher analysis\n",
    "publisher_counts = data['publisher'].value_counts()\n",
    "\n",
    "print(publisher_counts.head(10))\n",
    "\n",
    "plt.figure(figsize=(12, 6))\n",
    "top_publishers = publisher_counts.head(10)\n",
    "top_publishers.plot(kind='bar', color='skyblue')\n",
    "plt.title('Top 10 Publishers by Article Count')\n",
    "plt.xlabel('Publisher')\n",
    "plt.ylabel('Number of Articles')\n",
    "plt.xticks(rotation=45)\n",
    "plt.show()\n"
   ]
  }
 ],
 "metadata": {
  "kernelspec": {
   "display_name": "myenv",
   "language": "python",
   "name": "python3"
  },
  "language_info": {
   "codemirror_mode": {
    "name": "ipython",
    "version": 3
   },
   "file_extension": ".py",
   "mimetype": "text/x-python",
   "name": "python",
   "nbconvert_exporter": "python",
   "pygments_lexer": "ipython3",
   "version": "3.12.3"
  }
 },
 "nbformat": 4,
 "nbformat_minor": 2
}
